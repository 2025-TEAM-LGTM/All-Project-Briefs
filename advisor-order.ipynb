{
  "nbformat": 4,
  "nbformat_minor": 0,
  "metadata": {
    "colab": {
      "provenance": [],
      "authorship_tag": "ABX9TyNgpR7Y7ss/X3LofELTLSWD",
      "include_colab_link": true
    },
    "kernelspec": {
      "name": "python3",
      "display_name": "Python 3"
    },
    "language_info": {
      "name": "python"
    }
  },
  "cells": [
    {
      "cell_type": "markdown",
      "metadata": {
        "id": "view-in-github",
        "colab_type": "text"
      },
      "source": [
        "<a href=\"https://colab.research.google.com/github/ekyuho/Ewha-2025-Fall/blob/main/advisor-order.ipynb\" target=\"_parent\"><img src=\"https://colab.research.google.com/assets/colab-badge.svg\" alt=\"Open In Colab\"/></a>"
      ]
    },
    {
      "cell_type": "code",
      "execution_count": null,
      "metadata": {
        "id": "cOCN6bXQz3Na"
      },
      "outputs": [],
      "source": [
        "import random\n",
        "\n",
        "teams=[t for t in range(1,41)]\n",
        "print(teams)\n",
        "random.shuffle(teams)\n",
        "print(teams)"
      ]
    },
    {
      "cell_type": "code",
      "source": [],
      "metadata": {
        "id": "wtK1pd9W0FJ7"
      },
      "execution_count": null,
      "outputs": []
    }
  ]
}